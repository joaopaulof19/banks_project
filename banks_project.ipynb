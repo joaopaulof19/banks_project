{
  "nbformat": 4,
  "nbformat_minor": 0,
  "metadata": {
    "colab": {
      "provenance": [],
      "authorship_tag": "ABX9TyPo0j0IlXR6nwjE/KwkpAvy",
      "include_colab_link": true
    },
    "kernelspec": {
      "name": "python3",
      "display_name": "Python 3"
    },
    "language_info": {
      "name": "python"
    }
  },
  "cells": [
    {
      "cell_type": "markdown",
      "metadata": {
        "id": "view-in-github",
        "colab_type": "text"
      },
      "source": [
        "<a href=\"https://colab.research.google.com/github/joaopaulof19/banks_project/blob/main/banks_project.ipynb\" target=\"_parent\"><img src=\"https://colab.research.google.com/assets/colab-badge.svg\" alt=\"Open In Colab\"/></a>"
      ]
    },
    {
      "cell_type": "markdown",
      "source": [
        "Laboratório prático: aquisição e processamento de informações sobre os maiores bancos do mundo"
      ],
      "metadata": {
        "id": "57ePC_Rfejo_"
      }
    },
    {
      "cell_type": "markdown",
      "source": [
        "**Cenário do Projeto**\n",
        "<br>\n",
        "Uma empresa multinacional contratou você como engenheiro de dados. Seu trabalho é acessar e processar dados de acordo com os requisitos.\n",
        "\n",
        "Seu chefe pediu que você compilasse a lista dos 10 maiores bancos do mundo, classificados por capitalização de mercado em bilhões de dólares. Além disso, você precisa transformar os dados e armazená-los em USD, GBP, EUR e INR de acordo com as informações da taxa de câmbio disponibilizadas como um arquivo CSV. Você deve salvar a tabela de informações processadas localmente em formato CSV e como uma tabela de banco de dados. Gestores de diferentes países consultarão a tabela do banco de dados para extrair a lista e anotar o valor da capitalização de mercado em sua própria moeda."
      ],
      "metadata": {
        "id": "4e7GDoBiQG2j"
      }
    },
    {
      "cell_type": "markdown",
      "source": [
        "**instruções**\n",
        "\n",
        "    1. Escreva uma função para extrair as informações tabulares do URL fornecido sob o título By Market Capitalization e salve-as em um quadro de dados.\n",
        "    2. Escreva uma função para transformar o quadro de dados adicionando colunas para Capitalização de Mercado em GBP , EUR e INR , arredondadas para 2 casas decimais, com base nas informações de taxa de câmbio compartilhadas como um arquivo CSV.\n",
        "    3. Escreva uma função para carregar o quadro de dados transformado em um arquivo CSV de saída.\n",
        "    4. Escreva uma função para carregar o quadro de dados transformado em um servidor de banco de dados SQL como uma tabela.\n",
        "    5. Escreva uma função para executar consultas na tabela do banco de dados.\n",
        "    6. Execute as seguintes consultas na tabela do banco de dados:\n",
        "    a. Extraia as informações do escritório de Londres, ou seja, Nome e MC_GBP_Billion\n",
        "    b. Extraia as informações do escritório de Berlim, ou seja, Nome e MC_EUR_Billion\n",
        "    c. Extraia as informações do escritório de Nova Delhi, ou seja, Nome e MC_INR_Billion\n",
        "    7. Escreva uma função para registrar o progresso do código.\n",
        "    8. Ao executar os comandos de inicialização de dados e chamadas de função, mantenha as entradas de log apropriadas."
      ],
      "metadata": {
        "id": "mjWH8vTUQURR"
      }
    },
    {
      "cell_type": "code",
      "source": [
        "!pip install requests\n",
        "!pip install bs4\n",
        "!pip install pandas\n",
        "!pip install sqlite3\n",
        "!pip install numpy"
      ],
      "metadata": {
        "colab": {
          "base_uri": "https://localhost:8080/"
        },
        "id": "t9Qmt518Gmjs",
        "outputId": "51760c0e-0d1e-400e-a4c7-3062869ec71c"
      },
      "execution_count": 1,
      "outputs": [
        {
          "output_type": "stream",
          "name": "stdout",
          "text": [
            "Requirement already satisfied: requests in /usr/local/lib/python3.10/dist-packages (2.31.0)\n",
            "Requirement already satisfied: charset-normalizer<4,>=2 in /usr/local/lib/python3.10/dist-packages (from requests) (3.3.2)\n",
            "Requirement already satisfied: idna<4,>=2.5 in /usr/local/lib/python3.10/dist-packages (from requests) (3.6)\n",
            "Requirement already satisfied: urllib3<3,>=1.21.1 in /usr/local/lib/python3.10/dist-packages (from requests) (2.0.7)\n",
            "Requirement already satisfied: certifi>=2017.4.17 in /usr/local/lib/python3.10/dist-packages (from requests) (2024.2.2)\n",
            "Collecting bs4\n",
            "  Downloading bs4-0.0.2-py2.py3-none-any.whl (1.2 kB)\n",
            "Requirement already satisfied: beautifulsoup4 in /usr/local/lib/python3.10/dist-packages (from bs4) (4.12.3)\n",
            "Requirement already satisfied: soupsieve>1.2 in /usr/local/lib/python3.10/dist-packages (from beautifulsoup4->bs4) (2.5)\n",
            "Installing collected packages: bs4\n",
            "Successfully installed bs4-0.0.2\n",
            "Requirement already satisfied: pandas in /usr/local/lib/python3.10/dist-packages (1.5.3)\n",
            "Requirement already satisfied: python-dateutil>=2.8.1 in /usr/local/lib/python3.10/dist-packages (from pandas) (2.8.2)\n",
            "Requirement already satisfied: pytz>=2020.1 in /usr/local/lib/python3.10/dist-packages (from pandas) (2023.4)\n",
            "Requirement already satisfied: numpy>=1.21.0 in /usr/local/lib/python3.10/dist-packages (from pandas) (1.25.2)\n",
            "Requirement already satisfied: six>=1.5 in /usr/local/lib/python3.10/dist-packages (from python-dateutil>=2.8.1->pandas) (1.16.0)\n",
            "\u001b[31mERROR: Could not find a version that satisfies the requirement sqlite3 (from versions: none)\u001b[0m\u001b[31m\n",
            "\u001b[0m\u001b[31mERROR: No matching distribution found for sqlite3\u001b[0m\u001b[31m\n",
            "\u001b[0mRequirement already satisfied: numpy in /usr/local/lib/python3.10/dist-packages (1.25.2)\n"
          ]
        }
      ]
    },
    {
      "cell_type": "code",
      "source": [
        "!wget https://cf-courses-data.s3.us.cloud-object-storage.appdomain.cloud/IBMSkillsNetwork-PY0221EN-Coursera/labs/v2/exchange_rate.csv"
      ],
      "metadata": {
        "colab": {
          "base_uri": "https://localhost:8080/"
        },
        "id": "LqknUcn_G7kA",
        "outputId": "055749f7-510b-4bde-8160-7d3f13207708"
      },
      "execution_count": 2,
      "outputs": [
        {
          "output_type": "stream",
          "name": "stdout",
          "text": [
            "--2024-02-21 01:29:42--  https://cf-courses-data.s3.us.cloud-object-storage.appdomain.cloud/IBMSkillsNetwork-PY0221EN-Coursera/labs/v2/exchange_rate.csv\n",
            "Resolving cf-courses-data.s3.us.cloud-object-storage.appdomain.cloud (cf-courses-data.s3.us.cloud-object-storage.appdomain.cloud)... 169.63.118.104\n",
            "Connecting to cf-courses-data.s3.us.cloud-object-storage.appdomain.cloud (cf-courses-data.s3.us.cloud-object-storage.appdomain.cloud)|169.63.118.104|:443... connected.\n",
            "HTTP request sent, awaiting response... 200 OK\n",
            "Length: 45 [text/csv]\n",
            "Saving to: ‘exchange_rate.csv’\n",
            "\n",
            "exchange_rate.csv   100%[===================>]      45  --.-KB/s    in 0s      \n",
            "\n",
            "2024-02-21 01:29:43 (13.5 MB/s) - ‘exchange_rate.csv’ saved [45/45]\n",
            "\n"
          ]
        }
      ]
    },
    {
      "cell_type": "code",
      "source": [
        "import pandas as pd\n",
        "from datetime import datetime\n",
        "import requests\n",
        "from bs4 import BeautifulSoup\n",
        "import numpy as np\n",
        "import sqlite3"
      ],
      "metadata": {
        "id": "KtC00KLQPnyQ"
      },
      "execution_count": 3,
      "outputs": []
    },
    {
      "cell_type": "code",
      "source": [
        "def log_progress(message):\n",
        "  timestamp_format = '%Y-%h-%d-%H:%M:%S'\n",
        "  now = datetime.now()\n",
        "  timestamp = now.strftime(timestamp_format)\n",
        "  print(timestamp + ' : ' + message + '\\n')\n",
        "  with open(log, \"a\") as f:\n",
        "    f.write(timestamp + ' : ' + message + '\\n')\n"
      ],
      "metadata": {
        "id": "WTxDTspENgwW"
      },
      "execution_count": 4,
      "outputs": []
    },
    {
      "cell_type": "code",
      "source": [
        "def extract(url, table_attribs):\n",
        "    ''' This function aims to extract the required\n",
        "    information from the website and save it to a data frame. The\n",
        "    function returns the data frame for further processing. '''\n",
        "\n",
        "    # Fazendo a requisição GET para obter o conteúdo da página\n",
        "    response = requests.get(url)\n",
        "\n",
        "    # Criando o objeto BeautifulSoup\n",
        "    soup = BeautifulSoup(response.text, 'html.parser')\n",
        "    # Encontrando todas as tabelas com os dados desejados\n",
        "    # tabelas = soup.find_all('tbody')\n",
        "    tabelas = soup.find_all('table')\n",
        "\n",
        "\n",
        "    # Selecionando a segunda tabela (índice 1, pois a contagem começa em 0)\n",
        "    tabela_desejada = tabelas[0]\n",
        "\n",
        "    # Inicializando listas para armazenar os dados\n",
        "    data = {\"Rank\": [], \"Bank name\": [], \"Market Cap\": []}\n",
        "\n",
        "    # Iterando sobre as linhas da tabela, ignorando o cabeçalho\n",
        "    for linha in tabela_desejada.find_all('tr')[1:]:\n",
        "        colunas = linha.find_all('td')\n",
        "        # Verificando se a linha tem o número esperado de colunas\n",
        "        if len(colunas) == 3:\n",
        "            data[\"Rank\"].append(colunas[0].text.strip())\n",
        "            data[\"Bank name\"].append(colunas[1].text.strip())\n",
        "            data[\"Market Cap\"].append(colunas[2].text.strip())\n",
        "\n",
        "    # Criando o DataFrame\n",
        "    df = pd.DataFrame(data)\n",
        "\n",
        "    log_progress('Extração de dados concluída. Iniciando o processo de transformação ')\n",
        "    return df"
      ],
      "metadata": {
        "id": "WATyEUBoNg69"
      },
      "execution_count": 5,
      "outputs": []
    },
    {
      "cell_type": "code",
      "source": [
        "def transform(df, csv_path):\n",
        "    ''' This function accesses the CSV file for exchange rate\n",
        "    information, and adds three columns to the data frame, each\n",
        "    containing the transformed version of Market Cap column to\n",
        "    respective currencies'''\n",
        "    cambio = pd.read_csv(csv_path)\n",
        "    exchange_rate = cambio.set_index('Currency').to_dict()['Rate']\n",
        "    df['Market Cap'] = df['Market Cap'].astype('float64')\n",
        "    df.rename(columns={'Market Cap': 'MC_USD_Billion'}, inplace=True)\n",
        "\n",
        "    df['MC_GBP_Billion'] = [np.round(x*exchange_rate['GBP'],2) for x in df['MC_USD_Billion']]\n",
        "    df['MC_EUR_Billion'] = [np.round(x*exchange_rate['EUR'],2) for x in df['MC_USD_Billion']]\n",
        "    df['MC_INR_Billion'] = [np.round(x*exchange_rate['INR'],2) for x in df['MC_USD_Billion']]\n",
        "\n",
        "    log_progress('Transformação de dados concluída. Iniciando o processo de carregamento')\n",
        "\n",
        "    return df"
      ],
      "metadata": {
        "id": "7L4vFBRWNhHI"
      },
      "execution_count": 6,
      "outputs": []
    },
    {
      "cell_type": "code",
      "source": [
        "def load_to_csv(df, output_path):\n",
        "    ''' This function saves the final data frame as a CSV file in\n",
        "    the provided path. Function returns nothing.'''\n",
        "    df.to_csv(output_path)\n",
        "    log_progress('Dados salvos em arquivo CSV ')"
      ],
      "metadata": {
        "id": "-CaD6AJ4HeK0"
      },
      "execution_count": 7,
      "outputs": []
    },
    {
      "cell_type": "code",
      "source": [
        "def load_to_db(df, sql_connection, table_name):\n",
        "    ''' This function saves the final data frame to a database\n",
        "    table with the provided name. Function returns nothing.'''\n",
        "    df.to_sql(name=table_name, con=sql_connection, if_exists=\"replace\", index=False)\n",
        "    log_progress('Dados carregados no banco de dados como uma tabela, executando consultas')"
      ],
      "metadata": {
        "id": "ve2Gy39VHeNs"
      },
      "execution_count": 8,
      "outputs": []
    },
    {
      "cell_type": "code",
      "source": [
        "def run_query(query_statement, sql_connection):\n",
        "    ''' This function runs the query on the database table and\n",
        "    prints the output on the terminal. Function returns nothing. '''\n",
        "    print(query_statement)\n",
        "    query_output = pd.read_sql(query_statement, sql_connection)\n",
        "    print(query_output)\n",
        "    log_progress('Processo concluído')\n"
      ],
      "metadata": {
        "id": "VowCFn42HeQQ"
      },
      "execution_count": 9,
      "outputs": []
    },
    {
      "cell_type": "code",
      "source": [
        "''' Here, you define the required entities and call the relevant\n",
        "functions in the correct order to complete the project. Note that this\n",
        "portion is not inside any function.'''"
      ],
      "metadata": {
        "colab": {
          "base_uri": "https://localhost:8080/",
          "height": 35
        },
        "id": "lZW-zMf0HeTK",
        "outputId": "8ea758ec-21ac-4eb6-995d-00e3ca2139e1"
      },
      "execution_count": 10,
      "outputs": [
        {
          "output_type": "execute_result",
          "data": {
            "text/plain": [
              "' Here, you define the required entities and call the relevant\\nfunctions in the correct order to complete the project. Note that this\\nportion is not inside any function.'"
            ],
            "application/vnd.google.colaboratory.intrinsic+json": {
              "type": "string"
            }
          },
          "metadata": {},
          "execution_count": 10
        }
      ]
    },
    {
      "cell_type": "code",
      "source": [
        "url = \"https://web.archive.org/web/20230908091635 /https://en.wikipedia.org/wiki/List_of_largest_banks\"\n",
        "csv = \"https://cf-courses-data.s3.us.cloud-object-storage.appdomain.cloud/IBMSkillsNetwork-PY0221EN-Coursera/labs/v2/exchange_rate.csv \"\n",
        "atributos = [\"Name\", \" MC_USD_Billion\"]\n",
        "# atributos_finais = [\"Name\", \" MC_USD_Billion\", \" MC_GBP_Billion\", \" MC_EUR_Billion\", \"MC_INR_Billion\"]\n",
        "file_csv = \"./Largest_banks_data.csv\"\n",
        "db = 'Banks.db'\n",
        "log = \"code_log.txt\"\n",
        "table_attribs = [\"Rank\", \"Bank name\", \"Market Cap\"]\n"
      ],
      "metadata": {
        "id": "1RVOD7N8Q3Sh"
      },
      "execution_count": 11,
      "outputs": []
    },
    {
      "cell_type": "code",
      "source": [
        "df = extract(url, table_attribs)"
      ],
      "metadata": {
        "id": "CwSePPwlzlpG",
        "colab": {
          "base_uri": "https://localhost:8080/"
        },
        "outputId": "daab9e8e-2190-43e8-965c-4287cf86c780"
      },
      "execution_count": 12,
      "outputs": [
        {
          "output_type": "stream",
          "name": "stdout",
          "text": [
            "2024-Feb-21-01:29:45 : Extração de dados concluída. Iniciando o processo de transformação \n",
            "\n"
          ]
        }
      ]
    },
    {
      "cell_type": "code",
      "source": [
        "df"
      ],
      "metadata": {
        "colab": {
          "base_uri": "https://localhost:8080/",
          "height": 363
        },
        "id": "Gh8mW14P9jOU",
        "outputId": "86586c67-9f87-4b79-fd0e-212616c8a85b"
      },
      "execution_count": 13,
      "outputs": [
        {
          "output_type": "execute_result",
          "data": {
            "text/plain": [
              "  Rank                                Bank name Market Cap\n",
              "0    1                           JPMorgan Chase     432.92\n",
              "1    2                          Bank of America     231.52\n",
              "2    3  Industrial and Commercial Bank of China     194.56\n",
              "3    4               Agricultural Bank of China     160.68\n",
              "4    5                                HDFC Bank     157.91\n",
              "5    6                              Wells Fargo     155.87\n",
              "6    7                        HSBC Holdings PLC     148.90\n",
              "7    8                           Morgan Stanley     140.83\n",
              "8    9                  China Construction Bank     139.82\n",
              "9   10                            Bank of China     136.81"
            ],
            "text/html": [
              "\n",
              "  <div id=\"df-1fcd3f0a-02ab-47ba-916d-f9d93feaf796\" class=\"colab-df-container\">\n",
              "    <div>\n",
              "<style scoped>\n",
              "    .dataframe tbody tr th:only-of-type {\n",
              "        vertical-align: middle;\n",
              "    }\n",
              "\n",
              "    .dataframe tbody tr th {\n",
              "        vertical-align: top;\n",
              "    }\n",
              "\n",
              "    .dataframe thead th {\n",
              "        text-align: right;\n",
              "    }\n",
              "</style>\n",
              "<table border=\"1\" class=\"dataframe\">\n",
              "  <thead>\n",
              "    <tr style=\"text-align: right;\">\n",
              "      <th></th>\n",
              "      <th>Rank</th>\n",
              "      <th>Bank name</th>\n",
              "      <th>Market Cap</th>\n",
              "    </tr>\n",
              "  </thead>\n",
              "  <tbody>\n",
              "    <tr>\n",
              "      <th>0</th>\n",
              "      <td>1</td>\n",
              "      <td>JPMorgan Chase</td>\n",
              "      <td>432.92</td>\n",
              "    </tr>\n",
              "    <tr>\n",
              "      <th>1</th>\n",
              "      <td>2</td>\n",
              "      <td>Bank of America</td>\n",
              "      <td>231.52</td>\n",
              "    </tr>\n",
              "    <tr>\n",
              "      <th>2</th>\n",
              "      <td>3</td>\n",
              "      <td>Industrial and Commercial Bank of China</td>\n",
              "      <td>194.56</td>\n",
              "    </tr>\n",
              "    <tr>\n",
              "      <th>3</th>\n",
              "      <td>4</td>\n",
              "      <td>Agricultural Bank of China</td>\n",
              "      <td>160.68</td>\n",
              "    </tr>\n",
              "    <tr>\n",
              "      <th>4</th>\n",
              "      <td>5</td>\n",
              "      <td>HDFC Bank</td>\n",
              "      <td>157.91</td>\n",
              "    </tr>\n",
              "    <tr>\n",
              "      <th>5</th>\n",
              "      <td>6</td>\n",
              "      <td>Wells Fargo</td>\n",
              "      <td>155.87</td>\n",
              "    </tr>\n",
              "    <tr>\n",
              "      <th>6</th>\n",
              "      <td>7</td>\n",
              "      <td>HSBC Holdings PLC</td>\n",
              "      <td>148.90</td>\n",
              "    </tr>\n",
              "    <tr>\n",
              "      <th>7</th>\n",
              "      <td>8</td>\n",
              "      <td>Morgan Stanley</td>\n",
              "      <td>140.83</td>\n",
              "    </tr>\n",
              "    <tr>\n",
              "      <th>8</th>\n",
              "      <td>9</td>\n",
              "      <td>China Construction Bank</td>\n",
              "      <td>139.82</td>\n",
              "    </tr>\n",
              "    <tr>\n",
              "      <th>9</th>\n",
              "      <td>10</td>\n",
              "      <td>Bank of China</td>\n",
              "      <td>136.81</td>\n",
              "    </tr>\n",
              "  </tbody>\n",
              "</table>\n",
              "</div>\n",
              "    <div class=\"colab-df-buttons\">\n",
              "\n",
              "  <div class=\"colab-df-container\">\n",
              "    <button class=\"colab-df-convert\" onclick=\"convertToInteractive('df-1fcd3f0a-02ab-47ba-916d-f9d93feaf796')\"\n",
              "            title=\"Convert this dataframe to an interactive table.\"\n",
              "            style=\"display:none;\">\n",
              "\n",
              "  <svg xmlns=\"http://www.w3.org/2000/svg\" height=\"24px\" viewBox=\"0 -960 960 960\">\n",
              "    <path d=\"M120-120v-720h720v720H120Zm60-500h600v-160H180v160Zm220 220h160v-160H400v160Zm0 220h160v-160H400v160ZM180-400h160v-160H180v160Zm440 0h160v-160H620v160ZM180-180h160v-160H180v160Zm440 0h160v-160H620v160Z\"/>\n",
              "  </svg>\n",
              "    </button>\n",
              "\n",
              "  <style>\n",
              "    .colab-df-container {\n",
              "      display:flex;\n",
              "      gap: 12px;\n",
              "    }\n",
              "\n",
              "    .colab-df-convert {\n",
              "      background-color: #E8F0FE;\n",
              "      border: none;\n",
              "      border-radius: 50%;\n",
              "      cursor: pointer;\n",
              "      display: none;\n",
              "      fill: #1967D2;\n",
              "      height: 32px;\n",
              "      padding: 0 0 0 0;\n",
              "      width: 32px;\n",
              "    }\n",
              "\n",
              "    .colab-df-convert:hover {\n",
              "      background-color: #E2EBFA;\n",
              "      box-shadow: 0px 1px 2px rgba(60, 64, 67, 0.3), 0px 1px 3px 1px rgba(60, 64, 67, 0.15);\n",
              "      fill: #174EA6;\n",
              "    }\n",
              "\n",
              "    .colab-df-buttons div {\n",
              "      margin-bottom: 4px;\n",
              "    }\n",
              "\n",
              "    [theme=dark] .colab-df-convert {\n",
              "      background-color: #3B4455;\n",
              "      fill: #D2E3FC;\n",
              "    }\n",
              "\n",
              "    [theme=dark] .colab-df-convert:hover {\n",
              "      background-color: #434B5C;\n",
              "      box-shadow: 0px 1px 3px 1px rgba(0, 0, 0, 0.15);\n",
              "      filter: drop-shadow(0px 1px 2px rgba(0, 0, 0, 0.3));\n",
              "      fill: #FFFFFF;\n",
              "    }\n",
              "  </style>\n",
              "\n",
              "    <script>\n",
              "      const buttonEl =\n",
              "        document.querySelector('#df-1fcd3f0a-02ab-47ba-916d-f9d93feaf796 button.colab-df-convert');\n",
              "      buttonEl.style.display =\n",
              "        google.colab.kernel.accessAllowed ? 'block' : 'none';\n",
              "\n",
              "      async function convertToInteractive(key) {\n",
              "        const element = document.querySelector('#df-1fcd3f0a-02ab-47ba-916d-f9d93feaf796');\n",
              "        const dataTable =\n",
              "          await google.colab.kernel.invokeFunction('convertToInteractive',\n",
              "                                                    [key], {});\n",
              "        if (!dataTable) return;\n",
              "\n",
              "        const docLinkHtml = 'Like what you see? Visit the ' +\n",
              "          '<a target=\"_blank\" href=https://colab.research.google.com/notebooks/data_table.ipynb>data table notebook</a>'\n",
              "          + ' to learn more about interactive tables.';\n",
              "        element.innerHTML = '';\n",
              "        dataTable['output_type'] = 'display_data';\n",
              "        await google.colab.output.renderOutput(dataTable, element);\n",
              "        const docLink = document.createElement('div');\n",
              "        docLink.innerHTML = docLinkHtml;\n",
              "        element.appendChild(docLink);\n",
              "      }\n",
              "    </script>\n",
              "  </div>\n",
              "\n",
              "\n",
              "<div id=\"df-9b1a4938-05c3-4a08-a893-aeade7a43d60\">\n",
              "  <button class=\"colab-df-quickchart\" onclick=\"quickchart('df-9b1a4938-05c3-4a08-a893-aeade7a43d60')\"\n",
              "            title=\"Suggest charts\"\n",
              "            style=\"display:none;\">\n",
              "\n",
              "<svg xmlns=\"http://www.w3.org/2000/svg\" height=\"24px\"viewBox=\"0 0 24 24\"\n",
              "     width=\"24px\">\n",
              "    <g>\n",
              "        <path d=\"M19 3H5c-1.1 0-2 .9-2 2v14c0 1.1.9 2 2 2h14c1.1 0 2-.9 2-2V5c0-1.1-.9-2-2-2zM9 17H7v-7h2v7zm4 0h-2V7h2v10zm4 0h-2v-4h2v4z\"/>\n",
              "    </g>\n",
              "</svg>\n",
              "  </button>\n",
              "\n",
              "<style>\n",
              "  .colab-df-quickchart {\n",
              "      --bg-color: #E8F0FE;\n",
              "      --fill-color: #1967D2;\n",
              "      --hover-bg-color: #E2EBFA;\n",
              "      --hover-fill-color: #174EA6;\n",
              "      --disabled-fill-color: #AAA;\n",
              "      --disabled-bg-color: #DDD;\n",
              "  }\n",
              "\n",
              "  [theme=dark] .colab-df-quickchart {\n",
              "      --bg-color: #3B4455;\n",
              "      --fill-color: #D2E3FC;\n",
              "      --hover-bg-color: #434B5C;\n",
              "      --hover-fill-color: #FFFFFF;\n",
              "      --disabled-bg-color: #3B4455;\n",
              "      --disabled-fill-color: #666;\n",
              "  }\n",
              "\n",
              "  .colab-df-quickchart {\n",
              "    background-color: var(--bg-color);\n",
              "    border: none;\n",
              "    border-radius: 50%;\n",
              "    cursor: pointer;\n",
              "    display: none;\n",
              "    fill: var(--fill-color);\n",
              "    height: 32px;\n",
              "    padding: 0;\n",
              "    width: 32px;\n",
              "  }\n",
              "\n",
              "  .colab-df-quickchart:hover {\n",
              "    background-color: var(--hover-bg-color);\n",
              "    box-shadow: 0 1px 2px rgba(60, 64, 67, 0.3), 0 1px 3px 1px rgba(60, 64, 67, 0.15);\n",
              "    fill: var(--button-hover-fill-color);\n",
              "  }\n",
              "\n",
              "  .colab-df-quickchart-complete:disabled,\n",
              "  .colab-df-quickchart-complete:disabled:hover {\n",
              "    background-color: var(--disabled-bg-color);\n",
              "    fill: var(--disabled-fill-color);\n",
              "    box-shadow: none;\n",
              "  }\n",
              "\n",
              "  .colab-df-spinner {\n",
              "    border: 2px solid var(--fill-color);\n",
              "    border-color: transparent;\n",
              "    border-bottom-color: var(--fill-color);\n",
              "    animation:\n",
              "      spin 1s steps(1) infinite;\n",
              "  }\n",
              "\n",
              "  @keyframes spin {\n",
              "    0% {\n",
              "      border-color: transparent;\n",
              "      border-bottom-color: var(--fill-color);\n",
              "      border-left-color: var(--fill-color);\n",
              "    }\n",
              "    20% {\n",
              "      border-color: transparent;\n",
              "      border-left-color: var(--fill-color);\n",
              "      border-top-color: var(--fill-color);\n",
              "    }\n",
              "    30% {\n",
              "      border-color: transparent;\n",
              "      border-left-color: var(--fill-color);\n",
              "      border-top-color: var(--fill-color);\n",
              "      border-right-color: var(--fill-color);\n",
              "    }\n",
              "    40% {\n",
              "      border-color: transparent;\n",
              "      border-right-color: var(--fill-color);\n",
              "      border-top-color: var(--fill-color);\n",
              "    }\n",
              "    60% {\n",
              "      border-color: transparent;\n",
              "      border-right-color: var(--fill-color);\n",
              "    }\n",
              "    80% {\n",
              "      border-color: transparent;\n",
              "      border-right-color: var(--fill-color);\n",
              "      border-bottom-color: var(--fill-color);\n",
              "    }\n",
              "    90% {\n",
              "      border-color: transparent;\n",
              "      border-bottom-color: var(--fill-color);\n",
              "    }\n",
              "  }\n",
              "</style>\n",
              "\n",
              "  <script>\n",
              "    async function quickchart(key) {\n",
              "      const quickchartButtonEl =\n",
              "        document.querySelector('#' + key + ' button');\n",
              "      quickchartButtonEl.disabled = true;  // To prevent multiple clicks.\n",
              "      quickchartButtonEl.classList.add('colab-df-spinner');\n",
              "      try {\n",
              "        const charts = await google.colab.kernel.invokeFunction(\n",
              "            'suggestCharts', [key], {});\n",
              "      } catch (error) {\n",
              "        console.error('Error during call to suggestCharts:', error);\n",
              "      }\n",
              "      quickchartButtonEl.classList.remove('colab-df-spinner');\n",
              "      quickchartButtonEl.classList.add('colab-df-quickchart-complete');\n",
              "    }\n",
              "    (() => {\n",
              "      let quickchartButtonEl =\n",
              "        document.querySelector('#df-9b1a4938-05c3-4a08-a893-aeade7a43d60 button');\n",
              "      quickchartButtonEl.style.display =\n",
              "        google.colab.kernel.accessAllowed ? 'block' : 'none';\n",
              "    })();\n",
              "  </script>\n",
              "</div>\n",
              "\n",
              "  <div id=\"id_47658cec-9e16-4cfd-9084-84c38a66173b\">\n",
              "    <style>\n",
              "      .colab-df-generate {\n",
              "        background-color: #E8F0FE;\n",
              "        border: none;\n",
              "        border-radius: 50%;\n",
              "        cursor: pointer;\n",
              "        display: none;\n",
              "        fill: #1967D2;\n",
              "        height: 32px;\n",
              "        padding: 0 0 0 0;\n",
              "        width: 32px;\n",
              "      }\n",
              "\n",
              "      .colab-df-generate:hover {\n",
              "        background-color: #E2EBFA;\n",
              "        box-shadow: 0px 1px 2px rgba(60, 64, 67, 0.3), 0px 1px 3px 1px rgba(60, 64, 67, 0.15);\n",
              "        fill: #174EA6;\n",
              "      }\n",
              "\n",
              "      [theme=dark] .colab-df-generate {\n",
              "        background-color: #3B4455;\n",
              "        fill: #D2E3FC;\n",
              "      }\n",
              "\n",
              "      [theme=dark] .colab-df-generate:hover {\n",
              "        background-color: #434B5C;\n",
              "        box-shadow: 0px 1px 3px 1px rgba(0, 0, 0, 0.15);\n",
              "        filter: drop-shadow(0px 1px 2px rgba(0, 0, 0, 0.3));\n",
              "        fill: #FFFFFF;\n",
              "      }\n",
              "    </style>\n",
              "    <button class=\"colab-df-generate\" onclick=\"generateWithVariable('df')\"\n",
              "            title=\"Generate code using this dataframe.\"\n",
              "            style=\"display:none;\">\n",
              "\n",
              "  <svg xmlns=\"http://www.w3.org/2000/svg\" height=\"24px\"viewBox=\"0 0 24 24\"\n",
              "       width=\"24px\">\n",
              "    <path d=\"M7,19H8.4L18.45,9,17,7.55,7,17.6ZM5,21V16.75L18.45,3.32a2,2,0,0,1,2.83,0l1.4,1.43a1.91,1.91,0,0,1,.58,1.4,1.91,1.91,0,0,1-.58,1.4L9.25,21ZM18.45,9,17,7.55Zm-12,3A5.31,5.31,0,0,0,4.9,8.1,5.31,5.31,0,0,0,1,6.5,5.31,5.31,0,0,0,4.9,4.9,5.31,5.31,0,0,0,6.5,1,5.31,5.31,0,0,0,8.1,4.9,5.31,5.31,0,0,0,12,6.5,5.46,5.46,0,0,0,6.5,12Z\"/>\n",
              "  </svg>\n",
              "    </button>\n",
              "    <script>\n",
              "      (() => {\n",
              "      const buttonEl =\n",
              "        document.querySelector('#id_47658cec-9e16-4cfd-9084-84c38a66173b button.colab-df-generate');\n",
              "      buttonEl.style.display =\n",
              "        google.colab.kernel.accessAllowed ? 'block' : 'none';\n",
              "\n",
              "      buttonEl.onclick = () => {\n",
              "        google.colab.notebook.generateWithVariable('df');\n",
              "      }\n",
              "      })();\n",
              "    </script>\n",
              "  </div>\n",
              "\n",
              "    </div>\n",
              "  </div>\n"
            ],
            "application/vnd.google.colaboratory.intrinsic+json": {
              "type": "dataframe",
              "variable_name": "df",
              "summary": "{\n  \"name\": \"df\",\n  \"rows\": 10,\n  \"fields\": [\n    {\n      \"column\": \"Rank\",\n      \"properties\": {\n        \"dtype\": \"string\",\n        \"num_unique_values\": 10,\n        \"samples\": [\n          \"9\",\n          \"2\",\n          \"6\"\n        ],\n        \"semantic_type\": \"\",\n        \"description\": \"\"\n      }\n    },\n    {\n      \"column\": \"Bank name\",\n      \"properties\": {\n        \"dtype\": \"string\",\n        \"num_unique_values\": 10,\n        \"samples\": [\n          \"China Construction Bank\",\n          \"Bank of America\",\n          \"Wells Fargo\"\n        ],\n        \"semantic_type\": \"\",\n        \"description\": \"\"\n      }\n    },\n    {\n      \"column\": \"Market Cap\",\n      \"properties\": {\n        \"dtype\": \"string\",\n        \"num_unique_values\": 10,\n        \"samples\": [\n          \"139.82\",\n          \"231.52\",\n          \"155.87\"\n        ],\n        \"semantic_type\": \"\",\n        \"description\": \"\"\n      }\n    }\n  ]\n}"
            }
          },
          "metadata": {},
          "execution_count": 13
        }
      ]
    },
    {
      "cell_type": "code",
      "source": [
        "df.dtypes"
      ],
      "metadata": {
        "colab": {
          "base_uri": "https://localhost:8080/"
        },
        "id": "_8fkl9H2I4Vk",
        "outputId": "52fa1d95-cdf4-415c-c19d-28453a483626"
      },
      "execution_count": 14,
      "outputs": [
        {
          "output_type": "execute_result",
          "data": {
            "text/plain": [
              "Rank          object\n",
              "Bank name     object\n",
              "Market Cap    object\n",
              "dtype: object"
            ]
          },
          "metadata": {},
          "execution_count": 14
        }
      ]
    },
    {
      "cell_type": "code",
      "source": [
        "df= transform(df=df, csv_path=csv)\n"
      ],
      "metadata": {
        "colab": {
          "base_uri": "https://localhost:8080/"
        },
        "id": "XJK3FcyTGKsN",
        "outputId": "1f1da668-a0f6-4c60-c773-e05748f44f0e"
      },
      "execution_count": 15,
      "outputs": [
        {
          "output_type": "stream",
          "name": "stdout",
          "text": [
            "2024-Feb-21-01:29:46 : Transformação de dados concluída. Iniciando o processo de carregamento\n",
            "\n"
          ]
        }
      ]
    },
    {
      "cell_type": "code",
      "source": [
        "df"
      ],
      "metadata": {
        "colab": {
          "base_uri": "https://localhost:8080/",
          "height": 363
        },
        "id": "AaY9pkBWGgcF",
        "outputId": "cb23f14c-c8af-45a4-d611-15ee8d904725"
      },
      "execution_count": 16,
      "outputs": [
        {
          "output_type": "execute_result",
          "data": {
            "text/plain": [
              "  Rank                                Bank name  MC_USD_Billion  \\\n",
              "0    1                           JPMorgan Chase          432.92   \n",
              "1    2                          Bank of America          231.52   \n",
              "2    3  Industrial and Commercial Bank of China          194.56   \n",
              "3    4               Agricultural Bank of China          160.68   \n",
              "4    5                                HDFC Bank          157.91   \n",
              "5    6                              Wells Fargo          155.87   \n",
              "6    7                        HSBC Holdings PLC          148.90   \n",
              "7    8                           Morgan Stanley          140.83   \n",
              "8    9                  China Construction Bank          139.82   \n",
              "9   10                            Bank of China          136.81   \n",
              "\n",
              "   MC_GBP_Billion  MC_EUR_Billion  MC_INR_Billion  \n",
              "0          346.34          402.62        35910.71  \n",
              "1          185.22          215.31        19204.58  \n",
              "2          155.65          180.94        16138.75  \n",
              "3          128.54          149.43        13328.41  \n",
              "4          126.33          146.86        13098.63  \n",
              "5          124.70          144.96        12929.42  \n",
              "6          119.12          138.48        12351.26  \n",
              "7          112.66          130.97        11681.85  \n",
              "8          111.86          130.03        11598.07  \n",
              "9          109.45          127.23        11348.39  "
            ],
            "text/html": [
              "\n",
              "  <div id=\"df-89f8fc86-8e34-468f-b1f8-cdd041bfdfe2\" class=\"colab-df-container\">\n",
              "    <div>\n",
              "<style scoped>\n",
              "    .dataframe tbody tr th:only-of-type {\n",
              "        vertical-align: middle;\n",
              "    }\n",
              "\n",
              "    .dataframe tbody tr th {\n",
              "        vertical-align: top;\n",
              "    }\n",
              "\n",
              "    .dataframe thead th {\n",
              "        text-align: right;\n",
              "    }\n",
              "</style>\n",
              "<table border=\"1\" class=\"dataframe\">\n",
              "  <thead>\n",
              "    <tr style=\"text-align: right;\">\n",
              "      <th></th>\n",
              "      <th>Rank</th>\n",
              "      <th>Bank name</th>\n",
              "      <th>MC_USD_Billion</th>\n",
              "      <th>MC_GBP_Billion</th>\n",
              "      <th>MC_EUR_Billion</th>\n",
              "      <th>MC_INR_Billion</th>\n",
              "    </tr>\n",
              "  </thead>\n",
              "  <tbody>\n",
              "    <tr>\n",
              "      <th>0</th>\n",
              "      <td>1</td>\n",
              "      <td>JPMorgan Chase</td>\n",
              "      <td>432.92</td>\n",
              "      <td>346.34</td>\n",
              "      <td>402.62</td>\n",
              "      <td>35910.71</td>\n",
              "    </tr>\n",
              "    <tr>\n",
              "      <th>1</th>\n",
              "      <td>2</td>\n",
              "      <td>Bank of America</td>\n",
              "      <td>231.52</td>\n",
              "      <td>185.22</td>\n",
              "      <td>215.31</td>\n",
              "      <td>19204.58</td>\n",
              "    </tr>\n",
              "    <tr>\n",
              "      <th>2</th>\n",
              "      <td>3</td>\n",
              "      <td>Industrial and Commercial Bank of China</td>\n",
              "      <td>194.56</td>\n",
              "      <td>155.65</td>\n",
              "      <td>180.94</td>\n",
              "      <td>16138.75</td>\n",
              "    </tr>\n",
              "    <tr>\n",
              "      <th>3</th>\n",
              "      <td>4</td>\n",
              "      <td>Agricultural Bank of China</td>\n",
              "      <td>160.68</td>\n",
              "      <td>128.54</td>\n",
              "      <td>149.43</td>\n",
              "      <td>13328.41</td>\n",
              "    </tr>\n",
              "    <tr>\n",
              "      <th>4</th>\n",
              "      <td>5</td>\n",
              "      <td>HDFC Bank</td>\n",
              "      <td>157.91</td>\n",
              "      <td>126.33</td>\n",
              "      <td>146.86</td>\n",
              "      <td>13098.63</td>\n",
              "    </tr>\n",
              "    <tr>\n",
              "      <th>5</th>\n",
              "      <td>6</td>\n",
              "      <td>Wells Fargo</td>\n",
              "      <td>155.87</td>\n",
              "      <td>124.70</td>\n",
              "      <td>144.96</td>\n",
              "      <td>12929.42</td>\n",
              "    </tr>\n",
              "    <tr>\n",
              "      <th>6</th>\n",
              "      <td>7</td>\n",
              "      <td>HSBC Holdings PLC</td>\n",
              "      <td>148.90</td>\n",
              "      <td>119.12</td>\n",
              "      <td>138.48</td>\n",
              "      <td>12351.26</td>\n",
              "    </tr>\n",
              "    <tr>\n",
              "      <th>7</th>\n",
              "      <td>8</td>\n",
              "      <td>Morgan Stanley</td>\n",
              "      <td>140.83</td>\n",
              "      <td>112.66</td>\n",
              "      <td>130.97</td>\n",
              "      <td>11681.85</td>\n",
              "    </tr>\n",
              "    <tr>\n",
              "      <th>8</th>\n",
              "      <td>9</td>\n",
              "      <td>China Construction Bank</td>\n",
              "      <td>139.82</td>\n",
              "      <td>111.86</td>\n",
              "      <td>130.03</td>\n",
              "      <td>11598.07</td>\n",
              "    </tr>\n",
              "    <tr>\n",
              "      <th>9</th>\n",
              "      <td>10</td>\n",
              "      <td>Bank of China</td>\n",
              "      <td>136.81</td>\n",
              "      <td>109.45</td>\n",
              "      <td>127.23</td>\n",
              "      <td>11348.39</td>\n",
              "    </tr>\n",
              "  </tbody>\n",
              "</table>\n",
              "</div>\n",
              "    <div class=\"colab-df-buttons\">\n",
              "\n",
              "  <div class=\"colab-df-container\">\n",
              "    <button class=\"colab-df-convert\" onclick=\"convertToInteractive('df-89f8fc86-8e34-468f-b1f8-cdd041bfdfe2')\"\n",
              "            title=\"Convert this dataframe to an interactive table.\"\n",
              "            style=\"display:none;\">\n",
              "\n",
              "  <svg xmlns=\"http://www.w3.org/2000/svg\" height=\"24px\" viewBox=\"0 -960 960 960\">\n",
              "    <path d=\"M120-120v-720h720v720H120Zm60-500h600v-160H180v160Zm220 220h160v-160H400v160Zm0 220h160v-160H400v160ZM180-400h160v-160H180v160Zm440 0h160v-160H620v160ZM180-180h160v-160H180v160Zm440 0h160v-160H620v160Z\"/>\n",
              "  </svg>\n",
              "    </button>\n",
              "\n",
              "  <style>\n",
              "    .colab-df-container {\n",
              "      display:flex;\n",
              "      gap: 12px;\n",
              "    }\n",
              "\n",
              "    .colab-df-convert {\n",
              "      background-color: #E8F0FE;\n",
              "      border: none;\n",
              "      border-radius: 50%;\n",
              "      cursor: pointer;\n",
              "      display: none;\n",
              "      fill: #1967D2;\n",
              "      height: 32px;\n",
              "      padding: 0 0 0 0;\n",
              "      width: 32px;\n",
              "    }\n",
              "\n",
              "    .colab-df-convert:hover {\n",
              "      background-color: #E2EBFA;\n",
              "      box-shadow: 0px 1px 2px rgba(60, 64, 67, 0.3), 0px 1px 3px 1px rgba(60, 64, 67, 0.15);\n",
              "      fill: #174EA6;\n",
              "    }\n",
              "\n",
              "    .colab-df-buttons div {\n",
              "      margin-bottom: 4px;\n",
              "    }\n",
              "\n",
              "    [theme=dark] .colab-df-convert {\n",
              "      background-color: #3B4455;\n",
              "      fill: #D2E3FC;\n",
              "    }\n",
              "\n",
              "    [theme=dark] .colab-df-convert:hover {\n",
              "      background-color: #434B5C;\n",
              "      box-shadow: 0px 1px 3px 1px rgba(0, 0, 0, 0.15);\n",
              "      filter: drop-shadow(0px 1px 2px rgba(0, 0, 0, 0.3));\n",
              "      fill: #FFFFFF;\n",
              "    }\n",
              "  </style>\n",
              "\n",
              "    <script>\n",
              "      const buttonEl =\n",
              "        document.querySelector('#df-89f8fc86-8e34-468f-b1f8-cdd041bfdfe2 button.colab-df-convert');\n",
              "      buttonEl.style.display =\n",
              "        google.colab.kernel.accessAllowed ? 'block' : 'none';\n",
              "\n",
              "      async function convertToInteractive(key) {\n",
              "        const element = document.querySelector('#df-89f8fc86-8e34-468f-b1f8-cdd041bfdfe2');\n",
              "        const dataTable =\n",
              "          await google.colab.kernel.invokeFunction('convertToInteractive',\n",
              "                                                    [key], {});\n",
              "        if (!dataTable) return;\n",
              "\n",
              "        const docLinkHtml = 'Like what you see? Visit the ' +\n",
              "          '<a target=\"_blank\" href=https://colab.research.google.com/notebooks/data_table.ipynb>data table notebook</a>'\n",
              "          + ' to learn more about interactive tables.';\n",
              "        element.innerHTML = '';\n",
              "        dataTable['output_type'] = 'display_data';\n",
              "        await google.colab.output.renderOutput(dataTable, element);\n",
              "        const docLink = document.createElement('div');\n",
              "        docLink.innerHTML = docLinkHtml;\n",
              "        element.appendChild(docLink);\n",
              "      }\n",
              "    </script>\n",
              "  </div>\n",
              "\n",
              "\n",
              "<div id=\"df-c7a3f83b-aecc-4814-bab2-95a5783acfab\">\n",
              "  <button class=\"colab-df-quickchart\" onclick=\"quickchart('df-c7a3f83b-aecc-4814-bab2-95a5783acfab')\"\n",
              "            title=\"Suggest charts\"\n",
              "            style=\"display:none;\">\n",
              "\n",
              "<svg xmlns=\"http://www.w3.org/2000/svg\" height=\"24px\"viewBox=\"0 0 24 24\"\n",
              "     width=\"24px\">\n",
              "    <g>\n",
              "        <path d=\"M19 3H5c-1.1 0-2 .9-2 2v14c0 1.1.9 2 2 2h14c1.1 0 2-.9 2-2V5c0-1.1-.9-2-2-2zM9 17H7v-7h2v7zm4 0h-2V7h2v10zm4 0h-2v-4h2v4z\"/>\n",
              "    </g>\n",
              "</svg>\n",
              "  </button>\n",
              "\n",
              "<style>\n",
              "  .colab-df-quickchart {\n",
              "      --bg-color: #E8F0FE;\n",
              "      --fill-color: #1967D2;\n",
              "      --hover-bg-color: #E2EBFA;\n",
              "      --hover-fill-color: #174EA6;\n",
              "      --disabled-fill-color: #AAA;\n",
              "      --disabled-bg-color: #DDD;\n",
              "  }\n",
              "\n",
              "  [theme=dark] .colab-df-quickchart {\n",
              "      --bg-color: #3B4455;\n",
              "      --fill-color: #D2E3FC;\n",
              "      --hover-bg-color: #434B5C;\n",
              "      --hover-fill-color: #FFFFFF;\n",
              "      --disabled-bg-color: #3B4455;\n",
              "      --disabled-fill-color: #666;\n",
              "  }\n",
              "\n",
              "  .colab-df-quickchart {\n",
              "    background-color: var(--bg-color);\n",
              "    border: none;\n",
              "    border-radius: 50%;\n",
              "    cursor: pointer;\n",
              "    display: none;\n",
              "    fill: var(--fill-color);\n",
              "    height: 32px;\n",
              "    padding: 0;\n",
              "    width: 32px;\n",
              "  }\n",
              "\n",
              "  .colab-df-quickchart:hover {\n",
              "    background-color: var(--hover-bg-color);\n",
              "    box-shadow: 0 1px 2px rgba(60, 64, 67, 0.3), 0 1px 3px 1px rgba(60, 64, 67, 0.15);\n",
              "    fill: var(--button-hover-fill-color);\n",
              "  }\n",
              "\n",
              "  .colab-df-quickchart-complete:disabled,\n",
              "  .colab-df-quickchart-complete:disabled:hover {\n",
              "    background-color: var(--disabled-bg-color);\n",
              "    fill: var(--disabled-fill-color);\n",
              "    box-shadow: none;\n",
              "  }\n",
              "\n",
              "  .colab-df-spinner {\n",
              "    border: 2px solid var(--fill-color);\n",
              "    border-color: transparent;\n",
              "    border-bottom-color: var(--fill-color);\n",
              "    animation:\n",
              "      spin 1s steps(1) infinite;\n",
              "  }\n",
              "\n",
              "  @keyframes spin {\n",
              "    0% {\n",
              "      border-color: transparent;\n",
              "      border-bottom-color: var(--fill-color);\n",
              "      border-left-color: var(--fill-color);\n",
              "    }\n",
              "    20% {\n",
              "      border-color: transparent;\n",
              "      border-left-color: var(--fill-color);\n",
              "      border-top-color: var(--fill-color);\n",
              "    }\n",
              "    30% {\n",
              "      border-color: transparent;\n",
              "      border-left-color: var(--fill-color);\n",
              "      border-top-color: var(--fill-color);\n",
              "      border-right-color: var(--fill-color);\n",
              "    }\n",
              "    40% {\n",
              "      border-color: transparent;\n",
              "      border-right-color: var(--fill-color);\n",
              "      border-top-color: var(--fill-color);\n",
              "    }\n",
              "    60% {\n",
              "      border-color: transparent;\n",
              "      border-right-color: var(--fill-color);\n",
              "    }\n",
              "    80% {\n",
              "      border-color: transparent;\n",
              "      border-right-color: var(--fill-color);\n",
              "      border-bottom-color: var(--fill-color);\n",
              "    }\n",
              "    90% {\n",
              "      border-color: transparent;\n",
              "      border-bottom-color: var(--fill-color);\n",
              "    }\n",
              "  }\n",
              "</style>\n",
              "\n",
              "  <script>\n",
              "    async function quickchart(key) {\n",
              "      const quickchartButtonEl =\n",
              "        document.querySelector('#' + key + ' button');\n",
              "      quickchartButtonEl.disabled = true;  // To prevent multiple clicks.\n",
              "      quickchartButtonEl.classList.add('colab-df-spinner');\n",
              "      try {\n",
              "        const charts = await google.colab.kernel.invokeFunction(\n",
              "            'suggestCharts', [key], {});\n",
              "      } catch (error) {\n",
              "        console.error('Error during call to suggestCharts:', error);\n",
              "      }\n",
              "      quickchartButtonEl.classList.remove('colab-df-spinner');\n",
              "      quickchartButtonEl.classList.add('colab-df-quickchart-complete');\n",
              "    }\n",
              "    (() => {\n",
              "      let quickchartButtonEl =\n",
              "        document.querySelector('#df-c7a3f83b-aecc-4814-bab2-95a5783acfab button');\n",
              "      quickchartButtonEl.style.display =\n",
              "        google.colab.kernel.accessAllowed ? 'block' : 'none';\n",
              "    })();\n",
              "  </script>\n",
              "</div>\n",
              "\n",
              "  <div id=\"id_60c45862-96cc-48af-9284-e46bc0eb3de4\">\n",
              "    <style>\n",
              "      .colab-df-generate {\n",
              "        background-color: #E8F0FE;\n",
              "        border: none;\n",
              "        border-radius: 50%;\n",
              "        cursor: pointer;\n",
              "        display: none;\n",
              "        fill: #1967D2;\n",
              "        height: 32px;\n",
              "        padding: 0 0 0 0;\n",
              "        width: 32px;\n",
              "      }\n",
              "\n",
              "      .colab-df-generate:hover {\n",
              "        background-color: #E2EBFA;\n",
              "        box-shadow: 0px 1px 2px rgba(60, 64, 67, 0.3), 0px 1px 3px 1px rgba(60, 64, 67, 0.15);\n",
              "        fill: #174EA6;\n",
              "      }\n",
              "\n",
              "      [theme=dark] .colab-df-generate {\n",
              "        background-color: #3B4455;\n",
              "        fill: #D2E3FC;\n",
              "      }\n",
              "\n",
              "      [theme=dark] .colab-df-generate:hover {\n",
              "        background-color: #434B5C;\n",
              "        box-shadow: 0px 1px 3px 1px rgba(0, 0, 0, 0.15);\n",
              "        filter: drop-shadow(0px 1px 2px rgba(0, 0, 0, 0.3));\n",
              "        fill: #FFFFFF;\n",
              "      }\n",
              "    </style>\n",
              "    <button class=\"colab-df-generate\" onclick=\"generateWithVariable('df')\"\n",
              "            title=\"Generate code using this dataframe.\"\n",
              "            style=\"display:none;\">\n",
              "\n",
              "  <svg xmlns=\"http://www.w3.org/2000/svg\" height=\"24px\"viewBox=\"0 0 24 24\"\n",
              "       width=\"24px\">\n",
              "    <path d=\"M7,19H8.4L18.45,9,17,7.55,7,17.6ZM5,21V16.75L18.45,3.32a2,2,0,0,1,2.83,0l1.4,1.43a1.91,1.91,0,0,1,.58,1.4,1.91,1.91,0,0,1-.58,1.4L9.25,21ZM18.45,9,17,7.55Zm-12,3A5.31,5.31,0,0,0,4.9,8.1,5.31,5.31,0,0,0,1,6.5,5.31,5.31,0,0,0,4.9,4.9,5.31,5.31,0,0,0,6.5,1,5.31,5.31,0,0,0,8.1,4.9,5.31,5.31,0,0,0,12,6.5,5.46,5.46,0,0,0,6.5,12Z\"/>\n",
              "  </svg>\n",
              "    </button>\n",
              "    <script>\n",
              "      (() => {\n",
              "      const buttonEl =\n",
              "        document.querySelector('#id_60c45862-96cc-48af-9284-e46bc0eb3de4 button.colab-df-generate');\n",
              "      buttonEl.style.display =\n",
              "        google.colab.kernel.accessAllowed ? 'block' : 'none';\n",
              "\n",
              "      buttonEl.onclick = () => {\n",
              "        google.colab.notebook.generateWithVariable('df');\n",
              "      }\n",
              "      })();\n",
              "    </script>\n",
              "  </div>\n",
              "\n",
              "    </div>\n",
              "  </div>\n"
            ],
            "application/vnd.google.colaboratory.intrinsic+json": {
              "type": "dataframe",
              "variable_name": "df",
              "summary": "{\n  \"name\": \"df\",\n  \"rows\": 10,\n  \"fields\": [\n    {\n      \"column\": \"Rank\",\n      \"properties\": {\n        \"dtype\": \"string\",\n        \"num_unique_values\": 10,\n        \"samples\": [\n          \"9\",\n          \"2\",\n          \"6\"\n        ],\n        \"semantic_type\": \"\",\n        \"description\": \"\"\n      }\n    },\n    {\n      \"column\": \"Bank name\",\n      \"properties\": {\n        \"dtype\": \"string\",\n        \"num_unique_values\": 10,\n        \"samples\": [\n          \"China Construction Bank\",\n          \"Bank of America\",\n          \"Wells Fargo\"\n        ],\n        \"semantic_type\": \"\",\n        \"description\": \"\"\n      }\n    },\n    {\n      \"column\": \"MC_USD_Billion\",\n      \"properties\": {\n        \"dtype\": \"number\",\n        \"std\": 90.22393249884178,\n        \"min\": 136.81,\n        \"max\": 432.92,\n        \"num_unique_values\": 10,\n        \"samples\": [\n          139.82,\n          231.52,\n          155.87\n        ],\n        \"semantic_type\": \"\",\n        \"description\": \"\"\n      }\n    },\n    {\n      \"column\": \"MC_GBP_Billion\",\n      \"properties\": {\n        \"dtype\": \"number\",\n        \"std\": 72.18032004023749,\n        \"min\": 109.45,\n        \"max\": 346.34,\n        \"num_unique_values\": 10,\n        \"samples\": [\n          111.86,\n          185.22,\n          124.7\n        ],\n        \"semantic_type\": \"\",\n        \"description\": \"\"\n      }\n    },\n    {\n      \"column\": \"MC_EUR_Billion\",\n      \"properties\": {\n        \"dtype\": \"number\",\n        \"std\": 83.90962758296041,\n        \"min\": 127.23,\n        \"max\": 402.62,\n        \"num_unique_values\": 10,\n        \"samples\": [\n          130.03,\n          215.31,\n          144.96\n        ],\n        \"semantic_type\": \"\",\n        \"description\": \"\"\n      }\n    },\n    {\n      \"column\": \"MC_INR_Billion\",\n      \"properties\": {\n        \"dtype\": \"number\",\n        \"std\": 7484.073236257631,\n        \"min\": 11348.39,\n        \"max\": 35910.71,\n        \"num_unique_values\": 10,\n        \"samples\": [\n          11598.07,\n          19204.58,\n          12929.42\n        ],\n        \"semantic_type\": \"\",\n        \"description\": \"\"\n      }\n    }\n  ]\n}"
            }
          },
          "metadata": {},
          "execution_count": 16
        }
      ]
    },
    {
      "cell_type": "code",
      "source": [
        "df['MC_EUR_Billion'][4]"
      ],
      "metadata": {
        "colab": {
          "base_uri": "https://localhost:8080/"
        },
        "id": "pw2mEijJ_cjb",
        "outputId": "d7a14cd3-df65-4140-875c-67e1fd6a8d84"
      },
      "execution_count": 17,
      "outputs": [
        {
          "output_type": "execute_result",
          "data": {
            "text/plain": [
              "146.86"
            ]
          },
          "metadata": {},
          "execution_count": 17
        }
      ]
    },
    {
      "cell_type": "code",
      "source": [
        "\n",
        "print(df.loc[df['Rank'] == '5', 'MC_EUR_Billion'])\n"
      ],
      "metadata": {
        "colab": {
          "base_uri": "https://localhost:8080/"
        },
        "id": "n5UPCC5YHuQe",
        "outputId": "82161c34-ad01-46cc-f39a-68a4f678b83a"
      },
      "execution_count": 18,
      "outputs": [
        {
          "output_type": "stream",
          "name": "stdout",
          "text": [
            "4    146.86\n",
            "Name: MC_EUR_Billion, dtype: float64\n"
          ]
        }
      ]
    },
    {
      "cell_type": "code",
      "source": [
        "\n",
        "load_to_csv(df, output_path=file_csv)\n"
      ],
      "metadata": {
        "colab": {
          "base_uri": "https://localhost:8080/"
        },
        "id": "74ZThyeeHigi",
        "outputId": "aee18bab-c2a3-4650-e409-80ff37ef2e9b"
      },
      "execution_count": 19,
      "outputs": [
        {
          "output_type": "stream",
          "name": "stdout",
          "text": [
            "2024-Feb-21-01:29:46 : Dados salvos em arquivo CSV \n",
            "\n"
          ]
        }
      ]
    },
    {
      "cell_type": "code",
      "source": [
        "conn = sqlite3.connect(db)\n",
        "log_progress('Conexão SQL iniciada')\n",
        "load_to_db(df, conn, 'Largest_banks')\n"
      ],
      "metadata": {
        "colab": {
          "base_uri": "https://localhost:8080/"
        },
        "id": "v1BiTW2c0P3L",
        "outputId": "f15a42cc-724e-42b6-f075-e37056d6d9b8"
      },
      "execution_count": 20,
      "outputs": [
        {
          "output_type": "stream",
          "name": "stdout",
          "text": [
            "2024-Feb-21-01:29:46 : Conexão SQL iniciada\n",
            "\n",
            "2024-Feb-21-01:29:46 : Dados carregados no banco de dados como uma tabela, executando consultas\n",
            "\n"
          ]
        }
      ]
    },
    {
      "cell_type": "code",
      "source": [
        "query_statement = \"SELECT * FROM Largest_banks\"\n",
        "run_query(query_statement, sql_connection= conn)"
      ],
      "metadata": {
        "colab": {
          "base_uri": "https://localhost:8080/"
        },
        "id": "uee5iJ1t0QLu",
        "outputId": "b89a0b04-c238-445a-e3e6-fe9b43bf5625"
      },
      "execution_count": 21,
      "outputs": [
        {
          "output_type": "stream",
          "name": "stdout",
          "text": [
            "SELECT * FROM Largest_banks\n",
            "  Rank                                Bank name  MC_USD_Billion  \\\n",
            "0    1                           JPMorgan Chase          432.92   \n",
            "1    2                          Bank of America          231.52   \n",
            "2    3  Industrial and Commercial Bank of China          194.56   \n",
            "3    4               Agricultural Bank of China          160.68   \n",
            "4    5                                HDFC Bank          157.91   \n",
            "5    6                              Wells Fargo          155.87   \n",
            "6    7                        HSBC Holdings PLC          148.90   \n",
            "7    8                           Morgan Stanley          140.83   \n",
            "8    9                  China Construction Bank          139.82   \n",
            "9   10                            Bank of China          136.81   \n",
            "\n",
            "   MC_GBP_Billion  MC_EUR_Billion  MC_INR_Billion  \n",
            "0          346.34          402.62        35910.71  \n",
            "1          185.22          215.31        19204.58  \n",
            "2          155.65          180.94        16138.75  \n",
            "3          128.54          149.43        13328.41  \n",
            "4          126.33          146.86        13098.63  \n",
            "5          124.70          144.96        12929.42  \n",
            "6          119.12          138.48        12351.26  \n",
            "7          112.66          130.97        11681.85  \n",
            "8          111.86          130.03        11598.07  \n",
            "9          109.45          127.23        11348.39  \n",
            "2024-Feb-21-01:29:46 : Processo concluído\n",
            "\n"
          ]
        }
      ]
    },
    {
      "cell_type": "code",
      "source": [
        "query_statement = \"SELECT AVG(MC_GBP_Billion) FROM Largest_banks\"\n",
        "run_query(query_statement, sql_connection= conn)"
      ],
      "metadata": {
        "colab": {
          "base_uri": "https://localhost:8080/"
        },
        "id": "w2Yx0lzS34zz",
        "outputId": "3b3b881a-39a7-43f7-dc05-cf60ca0a6cc7"
      },
      "execution_count": 22,
      "outputs": [
        {
          "output_type": "stream",
          "name": "stdout",
          "text": [
            "SELECT AVG(MC_GBP_Billion) FROM Largest_banks\n",
            "   AVG(MC_GBP_Billion)\n",
            "0              151.987\n",
            "2024-Feb-21-01:29:46 : Processo concluído\n",
            "\n"
          ]
        }
      ]
    },
    {
      "cell_type": "code",
      "source": [
        "query_statement = 'SELECT \"Bank name\" from Largest_banks LIMIT 5'\n",
        "run_query(query_statement, sql_connection= conn)"
      ],
      "metadata": {
        "colab": {
          "base_uri": "https://localhost:8080/"
        },
        "id": "yhqg20Lr35d3",
        "outputId": "982899ca-3b93-4be2-fa8e-c200e5af0fc4"
      },
      "execution_count": 23,
      "outputs": [
        {
          "output_type": "stream",
          "name": "stdout",
          "text": [
            "SELECT \"Bank name\" from Largest_banks LIMIT 5\n",
            "                                 Bank name\n",
            "0                           JPMorgan Chase\n",
            "1                          Bank of America\n",
            "2  Industrial and Commercial Bank of China\n",
            "3               Agricultural Bank of China\n",
            "4                                HDFC Bank\n",
            "2024-Feb-21-01:29:46 : Processo concluído\n",
            "\n"
          ]
        }
      ]
    },
    {
      "cell_type": "code",
      "source": [
        "conn.close()"
      ],
      "metadata": {
        "id": "iRkepAQkHKkx"
      },
      "execution_count": 24,
      "outputs": []
    }
  ]
}